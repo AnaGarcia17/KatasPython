{
  "cells": [
    {
      "cell_type": "markdown",
      "metadata": {},
      "source": [
        "Cadenas : no cambian \n",
        "van entre  '', \" \""
      ]
    },
    {
      "cell_type": "code",
      "execution_count": 1,
      "metadata": {},
      "outputs": [
        {
          "data": {
            "text/plain": [
              "'The Moon has no atmosphere.No sound can be heard on the Moon.'"
            ]
          },
          "execution_count": 1,
          "metadata": {},
          "output_type": "execute_result"
        }
      ],
      "source": [
        "fact = 'The Moon has no atmosphere.'\n",
        "fact + 'No sound can be heard on the Moon.'\n"
      ]
    },
    {
      "cell_type": "markdown",
      "metadata": {},
      "source": [
        "Agrgar a una variable"
      ]
    },
    {
      "cell_type": "code",
      "execution_count": 2,
      "metadata": {},
      "outputs": [
        {
          "data": {
            "text/plain": [
              "'The Moon has no atmosphere.No sound can be heard on the Moon.'"
            ]
          },
          "execution_count": 2,
          "metadata": {},
          "output_type": "execute_result"
        }
      ],
      "source": [
        "two_facts = fact + 'No sound can be heard on the Moon.'\n",
        "two_facts"
      ]
    },
    {
      "cell_type": "markdown",
      "metadata": {},
      "source": [
        "Comilllas:"
      ]
    },
    {
      "cell_type": "code",
      "execution_count": 3,
      "metadata": {},
      "outputs": [
        {
          "data": {
            "text/plain": [
              "'The \"near side\" is the part of the Moon that faces the Earth'"
            ]
          },
          "execution_count": 3,
          "metadata": {},
          "output_type": "execute_result"
        }
      ],
      "source": [
        "\"We only see about 60% of the Moon's surface\"\n",
        "'The \"near side\" is the part of the Moon that faces the Earth'\n",
        "\n",
        "# es lo mismo en ambos casos\n"
      ]
    },
    {
      "cell_type": "code",
      "execution_count": 4,
      "metadata": {},
      "outputs": [
        {
          "ename": "SyntaxError",
          "evalue": "invalid syntax (1739854095.py, line 2)",
          "output_type": "error",
          "traceback": [
            "\u001b[0;36m  Input \u001b[0;32mIn [4]\u001b[0;36m\u001b[0m\n\u001b[0;31m    'We only see about 60% of the Moon's surface'\u001b[0m\n\u001b[0m                                       ^\u001b[0m\n\u001b[0;31mSyntaxError\u001b[0m\u001b[0;31m:\u001b[0m invalid syntax\n"
          ]
        }
      ],
      "source": [
        "# erros, cambinar comillas '' y \" \"\n",
        "'We only see about 60% of the Moon's surface'\n",
        "  File '<stdin>', line 1\n",
        "    'We only see about 60% of the Moon's surface'\n",
        "                                       ^\n",
        "SyntaxError: invalid syntax"
      ]
    },
    {
      "cell_type": "code",
      "execution_count": 5,
      "metadata": {},
      "outputs": [
        {
          "data": {
            "text/plain": [
              "'We only see about 60% of the Moon\\'s surface, this is known as the \"near side\".'"
            ]
          },
          "execution_count": 5,
          "metadata": {},
          "output_type": "execute_result"
        }
      ],
      "source": [
        "#uso de comillas triples para eviytar problemas\n",
        "\"\"\"We only see about 60% of the Moon's surface, this is known as the \"near side\".\"\"\""
      ]
    },
    {
      "cell_type": "markdown",
      "metadata": {},
      "source": [
        "Texto multilinea :  \\n    "
      ]
    },
    {
      "cell_type": "code",
      "execution_count": 7,
      "metadata": {},
      "outputs": [
        {
          "name": "stdout",
          "output_type": "stream",
          "text": [
            "Facts about the Moon:\n",
            " There is no atmosphere.\n",
            " There is no sound.\n"
          ]
        }
      ],
      "source": [
        "multiline = \"Facts about the Moon:\\n There is no atmosphere.\\n There is no sound.\"\n",
        "print(multiline)\n"
      ]
    },
    {
      "cell_type": "code",
      "execution_count": 11,
      "metadata": {},
      "outputs": [
        {
          "name": "stdout",
          "output_type": "stream",
          "text": [
            "Facts about the Moon:\n",
            "There is no atmosphere.\n",
            "There is no sound.\n"
          ]
        }
      ],
      "source": [
        "multiline = \"\"\"Facts about the Moon:\n",
        "There is no atmosphere.\n",
        "There is no sound.\"\"\"\n",
        "print(multiline)\n",
        "# al inicio del renglón y solo escribes en la linea de abajo\n"
      ]
    },
    {
      "cell_type": "markdown",
      "metadata": {},
      "source": [
        "Métodos string en Python"
      ]
    },
    {
      "cell_type": "code",
      "execution_count": 12,
      "metadata": {},
      "outputs": [
        {
          "data": {
            "text/plain": [
              "'Temperatures And Facts About The Moon'"
            ]
          },
          "execution_count": 12,
          "metadata": {},
          "output_type": "execute_result"
        }
      ],
      "source": [
        "#aplicado en cadena\n",
        "'temperatures and facts about the moon'.title()"
      ]
    },
    {
      "cell_type": "code",
      "execution_count": 13,
      "metadata": {},
      "outputs": [
        {
          "data": {
            "text/plain": [
              "'Temperatures And Facts About The Moon'"
            ]
          },
          "execution_count": 13,
          "metadata": {},
          "output_type": "execute_result"
        }
      ],
      "source": [
        "#aplicado en una varible\n",
        "\n",
        "heading = 'temperatures and facts about the moon'\n",
        "heading.title()"
      ]
    },
    {
      "cell_type": "markdown",
      "metadata": {},
      "source": [
        "Dividir una cadena:  .split()\n",
        "\n",
        "método de cadena   -   método de cadena\n",
        "crearía una lista de cada palabra"
      ]
    },
    {
      "cell_type": "code",
      "execution_count": 15,
      "metadata": {},
      "outputs": [
        {
          "data": {
            "text/plain": [
              "['Daylight:', '260', 'F', 'Nighttime:', '-280', 'F']"
            ]
          },
          "execution_count": 15,
          "metadata": {},
          "output_type": "execute_result"
        }
      ],
      "source": [
        "temperatures = '''Daylight: 260 F\n",
        "Nighttime: -280 F'''\n",
        "temperatures .split()"
      ]
    },
    {
      "cell_type": "code",
      "execution_count": 16,
      "metadata": {},
      "outputs": [
        {
          "data": {
            "text/plain": [
              "['Daylight: 260 F', 'Nighttime: -280 F']"
            ]
          },
          "execution_count": 16,
          "metadata": {},
          "output_type": "execute_result"
        }
      ],
      "source": [
        "temperatures .split('\\n')\n",
        "#aplica lo mismo pero por lineas"
      ]
    },
    {
      "cell_type": "markdown",
      "metadata": {},
      "source": [
        "Buscar una cadena\n",
        " 'palabra' in '  cadena '"
      ]
    },
    {
      "cell_type": "code",
      "execution_count": 17,
      "metadata": {},
      "outputs": [
        {
          "data": {
            "text/plain": [
              "False"
            ]
          },
          "execution_count": 17,
          "metadata": {},
          "output_type": "execute_result"
        }
      ],
      "source": [
        "'Moon' in 'This text will describe facts and challenges with space travel'"
      ]
    },
    {
      "cell_type": "code",
      "execution_count": 18,
      "metadata": {},
      "outputs": [
        {
          "data": {
            "text/plain": [
              "True"
            ]
          },
          "execution_count": 18,
          "metadata": {},
          "output_type": "execute_result"
        }
      ],
      "source": [
        "'Moon' in 'This text will describe facts about the Moon'"
      ]
    },
    {
      "cell_type": "markdown",
      "metadata": {},
      "source": [
        "Metodo: .find('Palabra')\n",
        "\n",
        "-1   -  no se encuentra la palabra "
      ]
    },
    {
      "cell_type": "code",
      "execution_count": 19,
      "metadata": {},
      "outputs": [],
      "source": [
        "temperatures = \"\"\"Saturn has a daytime temperature of -170 degrees Celsius,\n",
        "... while Mars has -28 Celsius.\"\"\""
      ]
    },
    {
      "cell_type": "code",
      "execution_count": 21,
      "metadata": {},
      "outputs": [
        {
          "data": {
            "text/plain": [
              "-1"
            ]
          },
          "execution_count": 21,
          "metadata": {},
          "output_type": "execute_result"
        }
      ],
      "source": [
        "\n",
        "temperatures.find('Moon')"
      ]
    },
    {
      "cell_type": "code",
      "execution_count": 22,
      "metadata": {},
      "outputs": [
        {
          "data": {
            "text/plain": [
              "64"
            ]
          },
          "execution_count": 22,
          "metadata": {},
          "output_type": "execute_result"
        }
      ],
      "source": [
        "temperatures.find('Mars')\n",
        "# 68 es la posición donde aparece en la cadena 'Mars'."
      ]
    },
    {
      "cell_type": "markdown",
      "metadata": {},
      "source": [
        "método    .count()\n",
        "\n",
        "número total de apariciones de una determinada palabra en una cadena"
      ]
    },
    {
      "cell_type": "code",
      "execution_count": 23,
      "metadata": {},
      "outputs": [
        {
          "data": {
            "text/plain": [
              "1"
            ]
          },
          "execution_count": 23,
          "metadata": {},
          "output_type": "execute_result"
        }
      ],
      "source": [
        "temperatures.count('Mars')"
      ]
    },
    {
      "cell_type": "code",
      "execution_count": 24,
      "metadata": {},
      "outputs": [
        {
          "data": {
            "text/plain": [
              "0"
            ]
          },
          "execution_count": 24,
          "metadata": {},
          "output_type": "execute_result"
        }
      ],
      "source": [
        "temperatures.count('Moon')"
      ]
    },
    {
      "cell_type": "markdown",
      "metadata": {},
      "source": [
        "MAYUSCULAS y minusculas\n",
        "\n",
        "' cadena'.lower()\n",
        "\n",
        "' cadena'.upper()"
      ]
    },
    {
      "cell_type": "code",
      "execution_count": 25,
      "metadata": {},
      "outputs": [
        {
          "data": {
            "text/plain": [
              "'the moon and the earth'"
            ]
          },
          "execution_count": 25,
          "metadata": {},
          "output_type": "execute_result"
        }
      ],
      "source": [
        "\"The Moon And The Earth\".lower()"
      ]
    },
    {
      "cell_type": "code",
      "execution_count": null,
      "metadata": {},
      "outputs": [],
      "source": [
        "'The Moon And The Earth'.upper()\n"
      ]
    },
    {
      "cell_type": "markdown",
      "metadata": {},
      "source": [
        "Comprobar el contenido"
      ]
    },
    {
      "cell_type": "code",
      "execution_count": 26,
      "metadata": {},
      "outputs": [],
      "source": [
        "temperatures = 'Mars Average Temperature: -60 C'"
      ]
    },
    {
      "cell_type": "code",
      "execution_count": 27,
      "metadata": {},
      "outputs": [
        {
          "data": {
            "text/plain": [
              "['Mars Average Temperature', ' -60 C']"
            ]
          },
          "execution_count": 27,
          "metadata": {},
          "output_type": "execute_result"
        }
      ],
      "source": [
        "parts = temperatures.split(':')\n",
        "# separa en una lista lo que esta antes y despues de :\n",
        "parts"
      ]
    },
    {
      "cell_type": "code",
      "execution_count": 28,
      "metadata": {},
      "outputs": [
        {
          "data": {
            "text/plain": [
              "' -60 C'"
            ]
          },
          "execution_count": 28,
          "metadata": {},
          "output_type": "execute_result"
        }
      ],
      "source": [
        "parts[-1]\n",
        "# -1 es el ultimo elemento"
      ]
    },
    {
      "cell_type": "markdown",
      "metadata": {},
      "source": [
        "Métodos  - tipo de cadena - \n",
        "\n",
        ".isnumeric()\n"
      ]
    },
    {
      "cell_type": "code",
      "execution_count": 31,
      "metadata": {},
      "outputs": [],
      "source": [
        "mars_temperature = 'The highest temperature on Mars is about 30 C'"
      ]
    },
    {
      "cell_type": "code",
      "execution_count": 33,
      "metadata": {},
      "outputs": [
        {
          "name": "stdout",
          "output_type": "stream",
          "text": [
            "30\n"
          ]
        }
      ],
      "source": [
        "for item in mars_temperature.split( ):\n",
        "    if item.isnumeric():\n",
        "        print(item)\n",
        "\n",
        "# Separa en una lsita cada elementpo si hay un espacio\n",
        "# buca si hay un nùmero \n",
        "# lo imprime        \n"
      ]
    },
    {
      "cell_type": "markdown",
      "metadata": {},
      "source": [
        "# .isdecimal()\n",
        "\n"
      ]
    },
    {
      "cell_type": "code",
      "execution_count": 34,
      "metadata": {},
      "outputs": [
        {
          "data": {
            "text/plain": [
              "False"
            ]
          },
          "execution_count": 34,
          "metadata": {},
          "output_type": "execute_result"
        }
      ],
      "source": [
        "\n",
        "\"-70\".isnumeric()\n",
        "# no funciona si hay -"
      ]
    },
    {
      "cell_type": "markdown",
      "metadata": {},
      "source": [
        "método : .startswith()"
      ]
    },
    {
      "cell_type": "code",
      "execution_count": 35,
      "metadata": {},
      "outputs": [
        {
          "data": {
            "text/plain": [
              "True"
            ]
          },
          "execution_count": 35,
          "metadata": {},
          "output_type": "execute_result"
        }
      ],
      "source": [
        "'-60'.startswith('-')"
      ]
    },
    {
      "cell_type": "code",
      "execution_count": 37,
      "metadata": {},
      "outputs": [
        {
          "name": "stdout",
          "output_type": "stream",
          "text": [
            "This temperature is in Celsius\n"
          ]
        }
      ],
      "source": [
        "# .endswith(\" palabra o lo que busquemos \")\n",
        "if \"30 C\".endswith(\"C\"):\n",
        "    print(\"This temperature is in Celsius\")\n"
      ]
    },
    {
      "cell_type": "markdown",
      "metadata": {},
      "source": [
        "Transformar texto\n"
      ]
    },
    {
      "cell_type": "code",
      "execution_count": 38,
      "metadata": {},
      "outputs": [
        {
          "data": {
            "text/plain": [
              "'Saturn has a daytime temperature of -170 degrees C, while Mars has -28 C.'"
            ]
          },
          "execution_count": 38,
          "metadata": {},
          "output_type": "execute_result"
        }
      ],
      "source": [
        "\n",
        "'Saturn has a daytime temperature of -170 degrees Celsius, while Mars has -28 Celsius.'.replace('Celsius', 'C')"
      ]
    },
    {
      "cell_type": "code",
      "execution_count": 39,
      "metadata": {},
      "outputs": [
        {
          "data": {
            "text/plain": [
              "False"
            ]
          },
          "execution_count": 39,
          "metadata": {},
          "output_type": "execute_result"
        }
      ],
      "source": [
        "text = 'Temperatures on the Moon can vary wildly.'\n",
        "'temperatures' in text"
      ]
    },
    {
      "cell_type": "code",
      "execution_count": 40,
      "metadata": {},
      "outputs": [
        {
          "data": {
            "text/plain": [
              "True"
            ]
          },
          "execution_count": 40,
          "metadata": {},
          "output_type": "execute_result"
        }
      ],
      "source": [
        "'temperatures' in text.lower()"
      ]
    },
    {
      "cell_type": "markdown",
      "metadata": {},
      "source": [
        "Unir:\n",
        "\n"
      ]
    },
    {
      "cell_type": "code",
      "execution_count": 44,
      "metadata": {},
      "outputs": [
        {
          "data": {
            "text/plain": [
              "'The Moon is drifting away from the Earth.\\nOn average, the Moon is moving about 4cm every year'"
            ]
          },
          "execution_count": 44,
          "metadata": {},
          "output_type": "execute_result"
        }
      ],
      "source": [
        "moon_facts = ['The Moon is drifting away from the Earth.', 'On average, the Moon is moving about 4cm every year']\n",
        "'\\n'.join(moon_facts)"
      ]
    },
    {
      "cell_type": "code",
      "execution_count": 46,
      "metadata": {},
      "outputs": [
        {
          "ename": "AttributeError",
          "evalue": "'list' object has no attribute 'join'",
          "output_type": "error",
          "traceback": [
            "\u001b[0;31m---------------------------------------------------------------------------\u001b[0m",
            "\u001b[0;31mAttributeError\u001b[0m                            Traceback (most recent call last)",
            "\u001b[1;32m/Users/ana/Desktop/Módulo 4.ipynb Cell 49'\u001b[0m in \u001b[0;36m<module>\u001b[0;34m\u001b[0m\n\u001b[0;32m----> <a href='vscode-notebook-cell:/Users/ana/Desktop/M%C3%B3dulo%204.ipynb#ch0000057?line=0'>1</a>\u001b[0m [\u001b[39m'\u001b[39;49m\u001b[39mThe Moon is drifting away from the Earth.\u001b[39;49m\u001b[39m'\u001b[39;49m, \u001b[39m'\u001b[39;49m\u001b[39mOn average, the Moon is moving about 4cm every year\u001b[39;49m\u001b[39m'\u001b[39;49m]\u001b[39m.\u001b[39;49mjoin()\n",
            "\u001b[0;31mAttributeError\u001b[0m: 'list' object has no attribute 'join'"
          ]
        }
      ],
      "source": [
        "['The Moon is drifting away from the Earth.', 'On average, the Moon is moving about 4cm every year'].join()"
      ]
    },
    {
      "cell_type": "markdown",
      "metadata": {},
      "source": [
        "Formato con signo de porcentaje (%)"
      ]
    },
    {
      "cell_type": "code",
      "execution_count": 48,
      "metadata": {},
      "outputs": [
        {
          "name": "stdout",
          "output_type": "stream",
          "text": [
            "On the Moon, you would weigh about 1/6 of your weight on Earth\n"
          ]
        }
      ],
      "source": [
        "mass_percentage = '1/6'\n",
        "print('On the Moon, you would weigh about %s of your weight on Earth' % mass_percentage)\n",
        "# solo para uno"
      ]
    },
    {
      "cell_type": "code",
      "execution_count": 50,
      "metadata": {},
      "outputs": [
        {
          "name": "stdout",
          "output_type": "stream",
          "text": [
            "Both sides of the Moon get the same amount of sunlight,\n",
            "    but only one side is seen from Earth because\n",
            "    the Moon rotates around its own axis when it orbits Earth.\n"
          ]
        }
      ],
      "source": [
        "print(\"\"\"Both sides of the %s get the same amount of sunlight,\n",
        "    but only one side is seen from %s because\n",
        "    the %s rotates around its own axis when it orbits %s.\"\"\" % ('Moon', 'Earth', 'Moon', 'Earth'))\n",
        "\n",
        "    #para varias palabras"
      ]
    },
    {
      "cell_type": "code",
      "execution_count": 51,
      "metadata": {},
      "outputs": [
        {
          "name": "stdout",
          "output_type": "stream",
          "text": [
            "On the Moon, you would weigh about 1/6 of your weight on Earth\n"
          ]
        }
      ],
      "source": [
        "mass_percentage = '1/6'\n",
        "print('On the Moon, you would weigh about {} of your weight on Earth'.format(mass_percentage))"
      ]
    },
    {
      "cell_type": "code",
      "execution_count": 52,
      "metadata": {},
      "outputs": [
        {
          "name": "stdout",
          "output_type": "stream",
          "text": [
            "You are lighter on the Moon, because on the Moon \n",
            "you would weigh about 1/6 of your weight on Earth\n"
          ]
        }
      ],
      "source": [
        "print(\"\"\"You are lighter on the {0}, because on the {0} \n",
        "... you would weigh about {1} of your weight on Earth\"\"\".format(\"Moon\", mass_percentage))"
      ]
    },
    {
      "cell_type": "code",
      "execution_count": 53,
      "metadata": {},
      "outputs": [
        {
          "name": "stdout",
          "output_type": "stream",
          "text": [
            "On the Moon, you would weigh about 1/6 of your weight on Earth\n"
          ]
        }
      ],
      "source": [
        "print(f'On the Moon, you would weigh about {mass_percentage} of your weight on Earth')"
      ]
    }
  ],
  "metadata": {
    "interpreter": {
      "hash": "31f2aee4e71d21fbe5cf8b01ff0e069b9275f58929596ceb00d14d90e3e16cd6"
    },
    "kernelspec": {
      "display_name": "Python 3.8.9 64-bit",
      "language": "python",
      "name": "python3"
    },
    "language_info": {
      "codemirror_mode": {
        "name": "ipython",
        "version": 3
      },
      "file_extension": ".py",
      "mimetype": "text/x-python",
      "name": "python",
      "nbconvert_exporter": "python",
      "pygments_lexer": "ipython3",
      "version": "3.8.9"
    },
    "orig_nbformat": 4
  },
  "nbformat": 4,
  "nbformat_minor": 2
}
