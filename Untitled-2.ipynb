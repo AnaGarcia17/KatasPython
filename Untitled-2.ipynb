{
 "cells": [
  {
   "cell_type": "markdown",
   "metadata": {},
   "source": [
    "Ejercicio - Escribir declaraciones if, else, y elif:"
   ]
  },
  {
   "cell_type": "markdown",
   "metadata": {},
   "source": [
    "Ejercicio 1:"
   ]
  },
  {
   "cell_type": "code",
   "execution_count": 16,
   "metadata": {},
   "outputs": [
    {
     "name": "stdout",
     "output_type": "stream",
     "text": [
      "ADVERTENCIA, SE ACERCA UN ESTEROIDE A LA TIERA..\n"
     ]
    }
   ],
   "source": [
    "v = int(input(\"Primer número: \"))\n",
    "c = 49\n",
    "if c >= v:\n",
    "    print ('ADVERTENCIA, SE ACERCA UN ESTEROIDE A LA TIERA..')\n",
    "else: \n",
    "    print ('Todo esta normal')"
   ]
  },
  {
   "cell_type": "markdown",
   "metadata": {},
   "source": [
    "Ejercicio 2:"
   ]
  },
  {
   "cell_type": "code",
   "execution_count": 10,
   "metadata": {},
   "outputs": [
    {
     "name": "stdout",
     "output_type": "stream",
     "text": [
      "Hay un asteriode que que dirige a la tierra con una velocidad de 19km/s\n"
     ]
    }
   ],
   "source": [
    "visible = 20\n",
    "prueba = 19\n",
    "if prueba > visible:\n",
    "    print ('Se acerca un asterioide a la tierra, buscalo ahora en el cielo...')\n",
    "elif prueba == visible:\n",
    "      print ('Se acerca un asterioide a la tierra, buscalo ahora en el cielo...')\n",
    "\n",
    "else:\n",
    "    print ('Hay un asteriode que que dirige a la tierra con una velocidad de ' + str(prueba) + 'km/s' ) "
   ]
  },
  {
   "cell_type": "markdown",
   "metadata": {},
   "source": [
    "Ejercicio: Uso de operadores and y or\n"
   ]
  },
  {
   "cell_type": "code",
   "execution_count": 31,
   "metadata": {},
   "outputs": [
    {
     "name": "stdout",
     "output_type": "stream",
     "text": [
      "ADVERTENCIA, SE ACERCA UN ESTEROIDE A LA TIERA..\n"
     ]
    }
   ],
   "source": [
    "# Velocidades\n",
    "adv = 25  #Advertencia \n",
    "luz = 20  #Luz\n",
    "\n",
    "# Tamaños\n",
    "t1 = 25   # Información\n",
    "t2 = 1000  #Advertencia \n",
    "\n",
    "\n",
    "Dimension = 50\n",
    "#int(input(\"Dimensión del asteride: \"))\n",
    "Velocidad = 30\n",
    "#int(input(\"Velocidad del asteride: \"))\n",
    "\n",
    "if Velocidad >= adv :\n",
    "    print ('ADVERTENCIA, SE ACERCA UN ESTEROIDE A LA TIERA..')\n",
    "elif Velocidad >= luz: \n",
    "    print ('Se acerca un asterioide a la tierra, buscalo ahora en el cielo...')\n",
    "elif Dimension > t1 or Dimension <= t2 :\n",
    "      print (' ADVERTENCIA,Un asterioide golperá a la tierra y podría causar mucho daño. ')\n",
    "else:\n",
    "      ('Un asteroide entrara a la tierra pero se quemará a medida que entre a la atmoafera..')"
   ]
  },
  {
   "cell_type": "code",
   "execution_count": 19,
   "metadata": {},
   "outputs": [
    {
     "name": "stdout",
     "output_type": "stream",
     "text": [
      "a es mayor que b y menor que c\n"
     ]
    }
   ],
   "source": [
    "a = 160\n",
    "b = 25\n",
    "c = 27\n",
    "if a > b:\n",
    "    if b > c:\n",
    "        print (\"a es mayor que b y b es mayor que c\")\n",
    "    else: \n",
    "        print (\"a es mayor que b y menor que c\")\n",
    "elif a == b:\n",
    "    print (\"a es igual que b\")\n",
    "else:\n",
    "    print (\"a es menor que b\")"
   ]
  }
 ],
 "metadata": {
  "interpreter": {
   "hash": "31f2aee4e71d21fbe5cf8b01ff0e069b9275f58929596ceb00d14d90e3e16cd6"
  },
  "kernelspec": {
   "display_name": "Python 3.8.9 64-bit",
   "language": "python",
   "name": "python3"
  },
  "language_info": {
   "codemirror_mode": {
    "name": "ipython",
    "version": 3
   },
   "file_extension": ".py",
   "mimetype": "text/x-python",
   "name": "python",
   "nbconvert_exporter": "python",
   "pygments_lexer": "ipython3",
   "version": "3.8.9"
  },
  "orig_nbformat": 4
 },
 "nbformat": 4,
 "nbformat_minor": 2
}
