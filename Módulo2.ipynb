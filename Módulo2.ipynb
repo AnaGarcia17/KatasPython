{
 "cells": [
  {
   "cell_type": "code",
   "execution_count": 2,
   "metadata": {},
   "outputs": [
    {
     "name": "stdout",
     "output_type": "stream",
     "text": [
      "Cantidad de leche 1.5\n",
      " Cantidad de huevo 3\n"
     ]
    }
   ],
   "source": [
    "#porgramando hot cakes \n",
    "titulo = 'programando hot cakes'\n",
    "huevo = 3\n",
    "leche = 1.5\n",
    "harina = 3\n",
    "cditaVainilla = 0.015\n",
    "print('Cantidad de leche ' + str(leche)+ '\\n Cantidad de huevo ' + str(huevo))"
   ]
  },
  {
   "cell_type": "code",
   "execution_count": null,
   "metadata": {},
   "outputs": [],
   "source": [
    "\n",
    "=\n",
    "> \n",
    "<\n",
    "+\n",
    "-\n"
   ]
  },
  {
   "cell_type": "code",
   "execution_count": null,
   "metadata": {},
   "outputs": [],
   "source": [
    "mezcla = huevo + leche + mantequilla + harina + cditaVainilla\n",
    "if huevo >= 4:\n",
    "    \n",
    " "
   ]
  },
  {
   "cell_type": "markdown",
   "metadata": {},
   "source": []
  }
 ],
 "metadata": {
  "interpreter": {
   "hash": "31f2aee4e71d21fbe5cf8b01ff0e069b9275f58929596ceb00d14d90e3e16cd6"
  },
  "kernelspec": {
   "display_name": "Python 3.8.9 64-bit",
   "language": "python",
   "name": "python3"
  },
  "language_info": {
   "codemirror_mode": {
    "name": "ipython",
    "version": 3
   },
   "file_extension": ".py",
   "mimetype": "text/x-python",
   "name": "python",
   "nbconvert_exporter": "python",
   "pygments_lexer": "ipython3",
   "version": "3.8.9"
  },
  "orig_nbformat": 4
 },
 "nbformat": 4,
 "nbformat_minor": 2
}
