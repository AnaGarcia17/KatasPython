{
 "cells": [
  {
   "cell_type": "markdown",
   "metadata": {},
   "source": [
    "salto de lineas:\n",
    "\n",
    " \\n  \n",
    "\n",
    " \"\"\" ...\n",
    " ...\n",
    " ... \"\"\"\n",
    "\n",
    "\n",
    "\n",
    "Métodos\n",
    "\n",
    " # '     '.title()"
   ]
  },
  {
   "cell_type": "markdown",
   "metadata": {},
   "source": [
    "Dividir una cadena\n",
    "\n",
    "\n",
    "# .split()\n",
    "\n",
    "# .split('\\n')"
   ]
  },
  {
   "cell_type": "markdown",
   "metadata": {},
   "source": [
    "Buscar una palabra\n",
    "\n",
    "# .find('Palabra')\n",
    "\n",
    "-1   -  no se encuentra la palabra\n",
    "\n",
    "# 'temperatures' in text"
   ]
  },
  {
   "cell_type": "markdown",
   "metadata": {},
   "source": [
    "Número total de apariciones de una determinada palabra en una cadena\n",
    "\n",
    " .count()\n",
    "\n"
   ]
  },
  {
   "cell_type": "markdown",
   "metadata": {},
   "source": [
    "MAYUSCULAS y minusculas\n",
    "\n",
    "# ' cadena'.lower()\n",
    "\n",
    "# ' cadena'.upper()"
   ]
  },
  {
   "cell_type": "markdown",
   "metadata": {},
   "source": [
    "Divide la cadena\n",
    "# .split(':')\n",
    "\n",
    "temperatures.split(':')\n",
    "\n",
    "\n",
    "parts[-1]\n",
    " -1 es el ultimo elemento"
   ]
  },
  {
   "cell_type": "markdown",
   "metadata": {},
   "source": [
    "# .isnumeric()"
   ]
  },
  {
   "cell_type": "markdown",
   "metadata": {},
   "source": [
    "# '-60'.startswith('-')\n",
    "comprobar si es un numero negativo"
   ]
  },
  {
   "cell_type": "markdown",
   "metadata": {},
   "source": [
    "# .endswith(\" palabra o lo que busquemos \")"
   ]
  },
  {
   "cell_type": "markdown",
   "metadata": {},
   "source": [
    "\n",
    "# ' '.replace('Celsius', 'C')\n",
    "inicio , convertido"
   ]
  },
  {
   "cell_type": "markdown",
   "metadata": {},
   "source": [
    "# .join(moon_facts)\n",
    "moon_facts = ['The Moon is drifting away from the Earth.', 'On average, the Moon is moving about 4cm every year']\n",
    "'\\n'.join(moon_facts)"
   ]
  },
  {
   "cell_type": "markdown",
   "metadata": {},
   "source": [
    "# %s  para 1\n",
    "mass_percentage = '1/6'\n",
    "print('On the Moon, you would weigh about %s of your weight on Earth' % mass_percentage)"
   ]
  },
  {
   "cell_type": "markdown",
   "metadata": {},
   "source": [
    "  # para varias palabras %s\n",
    "  print(\"\"\"Both sides of the %s get the same amount of sunlight,\n",
    "    but only one side is seen from %s because\n",
    "    the %s rotates around its own axis when it orbits %s.\"\"\" % ('Moon', 'Earth', 'Moon', 'Earth'))\n",
    "\n",
    "  "
   ]
  }
 ],
 "metadata": {
  "language_info": {
   "name": "python"
  },
  "orig_nbformat": 4
 },
 "nbformat": 4,
 "nbformat_minor": 2
}
